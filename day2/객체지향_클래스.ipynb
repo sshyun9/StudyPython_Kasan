{
 "cells": [
  {
   "cell_type": "markdown",
   "metadata": {},
   "source": [
    "## 객제지향, 클래스\n",
    "1. 객체지향 개념\n",
    "- 명사(속성 -> 속성변수)와 동사(행위 -> 함수)의 조합"
   ]
  },
  {
   "cell_type": "code",
   "execution_count": 1,
   "metadata": {},
   "outputs": [],
   "source": [
    "class Person:\n",
    "    name = ' '\n",
    "    age = 0\n",
    "\n",
    "    def __init__(self): #생성자\n",
    "        print('Person 생성!!')\n",
    "\n",
    "    def print_name(self):\n",
    "        print(f'제 이름은 {self.name}입니다.')     # a는 변수\n",
    "    \n",
    "    def get_age(self):\n",
    "        return self.age\n",
    "\n"
   ]
  },
  {
   "cell_type": "code",
   "execution_count": 4,
   "metadata": {},
   "outputs": [
    {
     "name": "stdout",
     "output_type": "stream",
     "text": [
      "Person 생성!!\n"
     ]
    }
   ],
   "source": [
    "me = Person()  # 생성자 : class\n",
    "# print(me)\n",
    "# print(type(me))"
   ]
  },
  {
   "cell_type": "code",
   "execution_count": 5,
   "metadata": {},
   "outputs": [
    {
     "name": "stdout",
     "output_type": "stream",
     "text": [
      "홍길동\n",
      "제 이름은 홍길동입니다.\n",
      "홍길동 나이는 990 세\n"
     ]
    }
   ],
   "source": [
    "me.name = '홍길동'\n",
    "print(me.name)\n",
    "me.print_name()\n",
    "me.age = 990\n",
    "hongs_age = me.get_age()\n",
    "print(me.name, '나이는', hongs_age, '세')"
   ]
  },
  {
   "cell_type": "code",
   "execution_count": 27,
   "metadata": {},
   "outputs": [],
   "source": [
    "# 생성자 수정 클래스 Person2\n",
    "class Person2:\n",
    "    name = ' '\n",
    "    age = 0\n",
    "\n",
    "    def __init__(self, name, age):         # 생성자\n",
    "        print('Person2 생성!!')\n",
    "        self.name = name\n",
    "        self.age = age\n",
    "\n",
    "    def __str__(self):                     # print를 변경해주는 매직매서드\n",
    "        return f'이름 : {self.name}, 나이 : {self.age}'\n",
    "\n",
    "    def print_name(self):\n",
    "        print(f'제 이름은 {self.name}입니다.')     # a는 변수\n",
    "    \n",
    "    def print_age(self):\n",
    "        print(f'제 나이는 {self.age}입니다.')\n"
   ]
  },
  {
   "cell_type": "code",
   "execution_count": 29,
   "metadata": {},
   "outputs": [
    {
     "name": "stdout",
     "output_type": "stream",
     "text": [
      "Person2 생성!!\n",
      "제 이름은 빵입니다.\n",
      "제 나이는 10입니다.\n",
      "이름 : 빵, 나이 : 10\n"
     ]
    }
   ],
   "source": [
    "you = Person2('빵', 10)\n",
    "you.print_name()\n",
    "you.print_age()\n",
    "\n",
    "print(you)\n"
   ]
  }
 ],
 "metadata": {
  "interpreter": {
   "hash": "26de051ba29f2982a8de78e945f0abaf191376122a1563185a90213a26c5da77"
  },
  "kernelspec": {
   "display_name": "Python 3.10.4 64-bit",
   "language": "python",
   "name": "python3"
  },
  "language_info": {
   "codemirror_mode": {
    "name": "ipython",
    "version": 3
   },
   "file_extension": ".py",
   "mimetype": "text/x-python",
   "name": "python",
   "nbconvert_exporter": "python",
   "pygments_lexer": "ipython3",
   "version": "3.10.4"
  },
  "orig_nbformat": 4
 },
 "nbformat": 4,
 "nbformat_minor": 2
}
