{
 "cells": [
  {
   "cell_type": "markdown",
   "metadata": {},
   "source": [
    "## 흐름제어"
   ]
  },
  {
   "cell_type": "markdown",
   "metadata": {},
   "source": [
    "1. if문\n",
    "  - 들여쓰기(탭, 공백), 구문 내용없을 때 pass"
   ]
  },
  {
   "cell_type": "code",
   "execution_count": 14,
   "metadata": {},
   "outputs": [
    {
     "name": "stdout",
     "output_type": "stream",
     "text": [
      "팡팡,진료실로 들어갑니다\n"
     ]
    }
   ],
   "source": [
    "name = '팡팡'\n",
    "\n",
    "if name == '팡팡' :   # 참인경우\n",
    "    print( f'{name},진료실로 들어갑니다')\n",
    "elif name == '길동':\n",
    "    print(f'{name}이도 진료실로 들어갑니다')\n",
    "else:\n",
    "    print(f'{name}이는 대기합니다.')\n"
   ]
  },
  {
   "cell_type": "code",
   "execution_count": 23,
   "metadata": {},
   "outputs": [
    {
     "name": "stdout",
     "output_type": "stream",
     "text": [
      "주사실로 갑니다\n"
     ]
    }
   ],
   "source": [
    "name = '길동'\n",
    "\n",
    "if name == '명건'or name == '용길':\n",
    "    print('진료실로 갑니다')\n",
    "elif name == '길동':\n",
    "    print('주사실로 갑니다')\n",
    "else :\n",
    "    print('대기합니다')"
   ]
  },
  {
   "cell_type": "code",
   "execution_count": 24,
   "metadata": {},
   "outputs": [
    {
     "name": "stdout",
     "output_type": "stream",
     "text": [
      "대기합니다\n"
     ]
    }
   ],
   "source": [
    "name = '명건'\n",
    "gender = '여자'\n",
    "\n",
    "if name == '명건'and gender == '남자':\n",
    "    print('진료실로 갑니다')\n",
    "elif name == '길동':\n",
    "    print('주사실로 갑니다')\n",
    "else :\n",
    "    print('대기합니다')"
   ]
  },
  {
   "cell_type": "code",
   "execution_count": 26,
   "metadata": {},
   "outputs": [
    {
     "name": "stdout",
     "output_type": "stream",
     "text": [
      "없습니다.\n"
     ]
    }
   ],
   "source": [
    "arr = [1,3,5,7,9]\n",
    "x = 2\n",
    "\n",
    "if (x in arr):\n",
    "    print('있습니다.')\n",
    "else : \n",
    "    print('없습니다.')"
   ]
  },
  {
   "cell_type": "code",
   "execution_count": 27,
   "metadata": {},
   "outputs": [
    {
     "name": "stdout",
     "output_type": "stream",
     "text": [
      "기다리세요\n"
     ]
    }
   ],
   "source": [
    "name = '명건'\n",
    "gender = '여자'\n",
    "\n",
    "if name == '명건':\n",
    "    if gender == '남자':\n",
    "        print('진료실로 갑니다')\n",
    "    else :\n",
    "        print('기다리세요')\n",
    "elif name == '길동':\n",
    "    print('주사실로 갑니다')\n",
    "else :\n",
    "    print('대기합니다')"
   ]
  },
  {
   "cell_type": "markdown",
   "metadata": {},
   "source": [
    "2. for문 (프로그래밍 흐름제어에서 가장 중요)"
   ]
  },
  {
   "cell_type": "code",
   "execution_count": 36,
   "metadata": {},
   "outputs": [
    {
     "name": "stdout",
     "output_type": "stream",
     "text": [
      "1.0\n",
      "2.0\n",
      "3.0\n",
      "4.0\n",
      "5.0\n",
      "6.0\n",
      "7.0\n",
      "8.0\n",
      "9.0\n",
      "10.0\n",
      "55\n"
     ]
    }
   ],
   "source": [
    "arr = [1,2,3,4,5,6,7,8,9,10]\n",
    "\n",
    "for i in arr:\n",
    "    print(f'{i:0.1f}')\n",
    "\n",
    "sum = 0\n",
    "for i in arr:\n",
    "    # sum = sum + i\n",
    "    sum +=i\n",
    "\n",
    "print(sum)"
   ]
  },
  {
   "cell_type": "code",
   "execution_count": 38,
   "metadata": {},
   "outputs": [
    {
     "name": "stdout",
     "output_type": "stream",
     "text": [
      "        Me\n",
      "        My\n",
      "    Friend\n",
      "      Jane\n"
     ]
    }
   ],
   "source": [
    "arr2 = ('Me', 'My', 'Friend', 'Jane')\n",
    "\n",
    "for j in arr2:\n",
    "    print(f'{j:>10}')  # 10자리수 맞춰서 오른쪽 정렬"
   ]
  },
  {
   "cell_type": "code",
   "execution_count": 48,
   "metadata": {},
   "outputs": [
    {
     "name": "stdout",
     "output_type": "stream",
     "text": [
      "[1, 3, 5, 7, 9, 11, 13, 15, 17, 19]\n",
      "1번째 수는 1 입니다\n",
      "2번째 수는 3 입니다\n",
      "3번째 수는 5 입니다\n",
      "4번째 수는 7 입니다\n",
      "5번째 수는 9 입니다\n",
      "6번째 수는 11 입니다\n",
      "7번째 수는 13 입니다\n",
      "8번째 수는 15 입니다\n",
      "9번째 수는 17 입니다\n",
      "10번째 수는 19 입니다\n"
     ]
    }
   ],
   "source": [
    "vals = [i for i in range(1, 20,2)]\n",
    "print(vals)\n",
    "\n",
    "num = 0\n",
    "for item in vals:\n",
    "    num+= 1\n",
    "    print(f'{num}번째 수는 {item} 입니다')"
   ]
  },
  {
   "cell_type": "code",
   "execution_count": 57,
   "metadata": {},
   "outputs": [
    {
     "name": "stdout",
     "output_type": "stream",
     "text": [
      "Hello World\n"
     ]
    }
   ],
   "source": [
    "print('Hello', end=' ')\n",
    "print('World')"
   ]
  },
  {
   "cell_type": "code",
   "execution_count": 70,
   "metadata": {},
   "outputs": [
    {
     "name": "stdout",
     "output_type": "stream",
     "text": [
      "2 *1 =  2 2 *2 =  4 2 *3 =  6 2 *4 =  8 2 *5 = 10 2 *6 = 12 2 *7 = 14 2 *8 = 16 2 *9 = 18 "
     ]
    }
   ],
   "source": [
    "# 구구단\n",
    "\n",
    "for i in range(1,10):\n",
    "    print(f'2 *{i} = {2*i:>2}', end =' ')"
   ]
  },
  {
   "cell_type": "code",
   "execution_count": 69,
   "metadata": {},
   "outputs": [
    {
     "name": "stdout",
     "output_type": "stream",
     "text": [
      "2단 시작 ----------\n",
      "2 * 1 =  2 2 * 2 =  4 2 * 3 =  6 2 * 4 =  8 2 * 5 = 10 2 * 6 = 12 2 * 7 = 14 2 * 8 = 16 2 * 9 = 18 \n",
      "3단 시작 ----------\n",
      "3 * 1 =  3 3 * 2 =  6 3 * 3 =  9 3 * 4 = 12 3 * 5 = 15 3 * 6 = 18 3 * 7 = 21 3 * 8 = 24 3 * 9 = 27 \n",
      "4단 시작 ----------\n",
      "4 * 1 =  4 4 * 2 =  8 4 * 3 = 12 4 * 4 = 16 4 * 5 = 20 4 * 6 = 24 4 * 7 = 28 4 * 8 = 32 4 * 9 = 36 \n",
      "5단 시작 ----------\n",
      "5 * 1 =  5 5 * 2 = 10 5 * 3 = 15 5 * 4 = 20 5 * 5 = 25 5 * 6 = 30 5 * 7 = 35 5 * 8 = 40 5 * 9 = 45 \n",
      "6단 시작 ----------\n",
      "6 * 1 =  6 6 * 2 = 12 6 * 3 = 18 6 * 4 = 24 6 * 5 = 30 6 * 6 = 36 6 * 7 = 42 6 * 8 = 48 6 * 9 = 54 \n",
      "7단 시작 ----------\n",
      "7 * 1 =  7 7 * 2 = 14 7 * 3 = 21 7 * 4 = 28 7 * 5 = 35 7 * 6 = 42 7 * 7 = 49 7 * 8 = 56 7 * 9 = 63 \n",
      "8단 시작 ----------\n",
      "8 * 1 =  8 8 * 2 = 16 8 * 3 = 24 8 * 4 = 32 8 * 5 = 40 8 * 6 = 48 8 * 7 = 56 8 * 8 = 64 8 * 9 = 72 \n",
      "9단 시작 ----------\n",
      "9 * 1 =  9 9 * 2 = 18 9 * 3 = 27 9 * 4 = 36 9 * 5 = 45 9 * 6 = 54 9 * 7 = 63 9 * 8 = 72 9 * 9 = 81 \n"
     ]
    }
   ],
   "source": [
    "# 향상된 구구단\n",
    "for x in range(2,10):\n",
    "    print(f'{x}단 시작 ----------')\n",
    "    for y in range(1,10):\n",
    "        print(f'{x} * {y} = {x*y:>2}', end=' ')\n",
    "    print()"
   ]
  },
  {
   "cell_type": "markdown",
   "metadata": {},
   "source": [
    "3. While문 (for문으로 대체가능)"
   ]
  },
  {
   "cell_type": "code",
   "execution_count": 74,
   "metadata": {},
   "outputs": [
    {
     "name": "stdout",
     "output_type": "stream",
     "text": [
      "나무를 1번 찍었습니다.\n",
      "나무를 2번 찍었습니다.\n",
      "나무를 3번 찍었습니다.\n",
      "나무를 4번 찍었습니다.\n",
      "나무를 5번 찍었습니다.\n",
      "나무를 6번 찍었습니다.\n",
      "나무를 7번 찍었습니다.\n",
      "나무를 8번 찍었습니다.\n",
      "나무를 9번 찍었습니다.\n",
      "나무를 10번 찍었습니다.\n",
      "나무가 넘어갔습니다.\n"
     ]
    }
   ],
   "source": [
    "hit = 0\n",
    "\n",
    "while hit < 100:\n",
    "    hit += 1\n",
    "\n",
    "    print(f'나무를 {hit}번 찍었습니다.')\n",
    "\n",
    "    if (hit == 10):\n",
    "        print('나무가 넘어갔습니다.')\n",
    "        break"
   ]
  },
  {
   "cell_type": "markdown",
   "metadata": {},
   "source": [
    "4. 별표찍기"
   ]
  },
  {
   "cell_type": "code",
   "execution_count": 82,
   "metadata": {},
   "outputs": [
    {
     "name": "stdout",
     "output_type": "stream",
     "text": [
      "* * * * * \n",
      "* * * * * \n",
      "* * * * * \n",
      "* * * * * \n",
      "* * * * * \n"
     ]
    }
   ],
   "source": [
    "#별표찍기 사각형찍기\n",
    "for x in range(1,6):\n",
    "    for y in range(1,6):\n",
    "        print('*', end=' ')\n",
    "    print()"
   ]
  },
  {
   "cell_type": "code",
   "execution_count": 84,
   "metadata": {},
   "outputs": [
    {
     "name": "stdout",
     "output_type": "stream",
     "text": [
      "* * * * * \n",
      "* * * * \n",
      "* * * \n",
      "* * \n",
      "* \n"
     ]
    }
   ],
   "source": [
    "#별표찍기 역직각삼각형\n",
    "for x in range(1,6):\n",
    "    for y in range(x,6):\n",
    "        print('*', end=' ')\n",
    "    print()"
   ]
  },
  {
   "cell_type": "code",
   "execution_count": 86,
   "metadata": {},
   "outputs": [
    {
     "name": "stdout",
     "output_type": "stream",
     "text": [
      "* \n",
      "* * \n",
      "* * * \n",
      "* * * * \n",
      "* * * * * \n"
     ]
    }
   ],
   "source": [
    "# 별표찍기 직각삼각형\n",
    "for x in range(1,6) :\n",
    "    for y in range(1,x+1):\n",
    "        print('*', end=' ')\n",
    "    print()"
   ]
  },
  {
   "cell_type": "code",
   "execution_count": 88,
   "metadata": {},
   "outputs": [
    {
     "name": "stdout",
     "output_type": "stream",
     "text": [
      "          * \n",
      "        * * * \n",
      "      * * * * * \n",
      "    * * * * * * * \n",
      "  * * * * * * * * * \n"
     ]
    }
   ],
   "source": [
    "# 별표찍기 피라미드\n",
    "for x in range(1,6) :\n",
    "    for y in range(x,6):\n",
    "        print(' ', end=' ')\n",
    "\n",
    "    for y in range(1, 2*x):\n",
    "        print('*', end=' ')\n",
    "    print()"
   ]
  }
 ],
 "metadata": {
  "interpreter": {
   "hash": "26de051ba29f2982a8de78e945f0abaf191376122a1563185a90213a26c5da77"
  },
  "kernelspec": {
   "display_name": "Python 3.10.4 64-bit",
   "language": "python",
   "name": "python3"
  },
  "language_info": {
   "codemirror_mode": {
    "name": "ipython",
    "version": 3
   },
   "file_extension": ".py",
   "mimetype": "text/x-python",
   "name": "python",
   "nbconvert_exporter": "python",
   "pygments_lexer": "ipython3",
   "version": "3.10.4"
  },
  "orig_nbformat": 4
 },
 "nbformat": 4,
 "nbformat_minor": 2
}
