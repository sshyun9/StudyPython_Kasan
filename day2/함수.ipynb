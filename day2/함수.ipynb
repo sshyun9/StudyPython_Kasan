{
 "cells": [
  {
   "cell_type": "markdown",
   "metadata": {},
   "source": [
    "## 함수\n",
    "1. 함수정의"
   ]
  },
  {
   "cell_type": "code",
   "execution_count": 7,
   "metadata": {},
   "outputs": [],
   "source": [
    "def add(x,y) :\n",
    "    result = x + y\n",
    "    return result  # return 없으면 값 안나옴.."
   ]
  },
  {
   "cell_type": "code",
   "execution_count": 23,
   "metadata": {},
   "outputs": [],
   "source": [
    "def add(x,y) :   # 매개변수, return 유무\n",
    "    return x + y  # 제일 간단하게\n",
    "\n",
    "def print_add(x,y) :  \n",
    "    print(x+y)\n",
    "\n",
    "def print_hello() :    \n",
    "    print('Hello, world!')\n",
    "\n",
    "def ret_hello() :\n",
    "    return 'Hello'"
   ]
  },
  {
   "cell_type": "code",
   "execution_count": 24,
   "metadata": {},
   "outputs": [
    {
     "name": "stdout",
     "output_type": "stream",
     "text": [
      "Hello My friend\n",
      "Hello, world!\n",
      "11\n",
      "12\n"
     ]
    }
   ],
   "source": [
    "import math\n",
    "\n",
    "val = ret_hello()    \n",
    "print(val, 'My friend')\n",
    "\n",
    "print_hello()   \n",
    "\n",
    "add_res = add(7,4)\n",
    "print(add_res)    # return O\n",
    "\n",
    "print(add(7,5))   # return X\n",
    "\n"
   ]
  },
  {
   "cell_type": "code",
   "execution_count": 31,
   "metadata": {},
   "outputs": [
    {
     "ename": "SyntaxError",
     "evalue": "incomplete input (4040983999.py, line 4)",
     "output_type": "error",
     "traceback": [
      "\u001b[1;36m  Input \u001b[1;32mIn [31]\u001b[1;36m\u001b[0m\n\u001b[1;33m    \u001b[0m\n\u001b[1;37m    ^\u001b[0m\n\u001b[1;31mSyntaxError\u001b[0m\u001b[1;31m:\u001b[0m incomplete input\n"
     ]
    }
   ],
   "source": [
    "def add(x,y = 1) :\n",
    "\n",
    "# def add(x =2, y) :  절대 불가능/매개변수 문법 확인\n",
    "\n"
   ]
  },
  {
   "cell_type": "code",
   "execution_count": 32,
   "metadata": {},
   "outputs": [
    {
     "name": "stdout",
     "output_type": "stream",
     "text": [
      "13\n"
     ]
    }
   ],
   "source": [
    "res = add(y=6, x=7)\n",
    "print(res)\n"
   ]
  },
  {
   "cell_type": "code",
   "execution_count": 34,
   "metadata": {},
   "outputs": [],
   "source": [
    "# 매개변수가 가변일때\n",
    "def adds (*args) :\n",
    "    res = 0\n",
    "\n",
    "    for i in args :\n",
    "        res += i\n",
    "    \n",
    "    return res"
   ]
  },
  {
   "cell_type": "code",
   "execution_count": 36,
   "metadata": {},
   "outputs": [
    {
     "name": "stdout",
     "output_type": "stream",
     "text": [
      "21\n",
      "55\n"
     ]
    }
   ],
   "source": [
    "print(adds(1,2,3,4,5,6))\n",
    "print(adds(1,2,3,4,5,6,7,8,9,10))"
   ]
  },
  {
   "cell_type": "code",
   "execution_count": 38,
   "metadata": {},
   "outputs": [],
   "source": [
    "def mul_and_add(x,y):\n",
    "    res_mul = x * y\n",
    "    res_add = x + y\n",
    "    \n",
    "    return(res_mul, res_add)  # tuple 형식으로 리턴"
   ]
  },
  {
   "cell_type": "code",
   "execution_count": 40,
   "metadata": {},
   "outputs": [
    {
     "name": "stdout",
     "output_type": "stream",
     "text": [
      "72\n",
      "17\n"
     ]
    }
   ],
   "source": [
    "(res1, res2) = mul_and_add(8,9)\n",
    "print(res1)\n",
    "print(res2)"
   ]
  },
  {
   "cell_type": "code",
   "execution_count": 47,
   "metadata": {},
   "outputs": [],
   "source": [
    "def all_calc(*args):\n",
    "    res_mul = 1 ;    res_add = 0 ;    res_div = 1 ;    res_sub = 0\n",
    "    last_num = 0\n",
    "    for i in args :\n",
    "        res_mul *= i\n",
    "        res_add += i\n",
    "        last_num = i\n",
    "\n",
    "    res_div = res_mul / last_num\n",
    "    res_sub = res_add - last_num\n",
    "\n",
    "    return (res_add, res_sub, res_mul, res_div)\n"
   ]
  },
  {
   "cell_type": "code",
   "execution_count": 51,
   "metadata": {},
   "outputs": [
    {
     "name": "stdout",
     "output_type": "stream",
     "text": [
      "15\n",
      "10\n",
      "120\n",
      "24.0\n"
     ]
    }
   ],
   "source": [
    "(res1, res2, res3, res4) = all_calc(1,2,3,4,5)\n",
    "print(res1)\n",
    "print(res2)\n",
    "print(res3)\n",
    "print(res4)\n"
   ]
  },
  {
   "cell_type": "markdown",
   "metadata": {},
   "source": [
    "1. 매개변수가 없고, 리턴문이 없는 경우\n",
    "2. 매개변수가 없고, 리턴문은 있는 경우\n",
    "3. 매개변수가 있고, 리턴문이 없는 경우\n",
    "4. 매개변수가 있고, 리턴문도 있는 경우\n",
    "5. 매개변수의 갯수가 가변인 경우\n",
    "6. 리턴되는 결과가 1건 이상인 경우"
   ]
  },
  {
   "cell_type": "markdown",
   "metadata": {},
   "source": [
    "2. 함수와 변수의 라이프스코프"
   ]
  },
  {
   "cell_type": "code",
   "execution_count": 54,
   "metadata": {},
   "outputs": [
    {
     "name": "stdout",
     "output_type": "stream",
     "text": [
      "2\n"
     ]
    }
   ],
   "source": [
    "a=1     # a는 변수\n",
    "\n",
    "def vartest(a):   # 여기서 a는 함수에서 쓰기 위한 매개변수이고 지역변수\n",
    "    a += 1\n",
    "    return a    # a는 사라짐\n",
    "\n",
    "a=vartest(a)\n",
    "print(a)"
   ]
  },
  {
   "cell_type": "code",
   "execution_count": 56,
   "metadata": {},
   "outputs": [
    {
     "name": "stdout",
     "output_type": "stream",
     "text": [
      "5\n"
     ]
    }
   ],
   "source": [
    "b=1     \n",
    "\n",
    "def vartestb():  \n",
    "    global b  # 전역변수를 함수내에서 사용할래!\n",
    "    b += 4\n",
    "\n",
    "vartestb()\n",
    "print(b)"
   ]
  }
 ],
 "metadata": {
  "interpreter": {
   "hash": "26de051ba29f2982a8de78e945f0abaf191376122a1563185a90213a26c5da77"
  },
  "kernelspec": {
   "display_name": "Python 3.10.4 64-bit",
   "language": "python",
   "name": "python3"
  },
  "language_info": {
   "codemirror_mode": {
    "name": "ipython",
    "version": 3
   },
   "file_extension": ".py",
   "mimetype": "text/x-python",
   "name": "python",
   "nbconvert_exporter": "python",
   "pygments_lexer": "ipython3",
   "version": "3.10.4"
  },
  "orig_nbformat": 4
 },
 "nbformat": 4,
 "nbformat_minor": 2
}
