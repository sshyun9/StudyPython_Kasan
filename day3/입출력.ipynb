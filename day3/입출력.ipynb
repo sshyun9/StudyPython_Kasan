{
 "cells": [
  {
   "cell_type": "markdown",
   "metadata": {},
   "source": [
    "## 입출력, 파일입출력\n",
    "1. 화면 입출력"
   ]
  },
  {
   "cell_type": "code",
   "execution_count": 10,
   "metadata": {},
   "outputs": [
    {
     "name": "stdout",
     "output_type": "stream",
     "text": [
      "8\n"
     ]
    }
   ],
   "source": [
    "# 기본 화면 입출력\n",
    "a = input('원하는 숫자를 입력하세요 : ')\n",
    "a = int(a)\n",
    "print(a + 4)"
   ]
  },
  {
   "cell_type": "code",
   "execution_count": 16,
   "metadata": {},
   "outputs": [
    {
     "name": "stdout",
     "output_type": "stream",
     "text": [
      "Life is short, You need Python\n",
      "108\n",
      "[0, 1, 2, 3, 4, 5, 6, 7, 8, 9, 10, 11, 12, 13, 14, 15, 16, 17, 18, 19, 20, 21, 22, 23, 24, 25, 26, 27, 28, 29, 30, 31, 32, 33, 34]\n",
      "Lifeisshort\n",
      "Lifeisshort\n",
      "Life is short\n"
     ]
    }
   ],
   "source": [
    "# 기본 화면 출력\n",
    "b = 'Life is short, You need Python'\n",
    "print(b)\n",
    "b = 108\n",
    "print(b)\n",
    "b = [i for i in range(0,35)]\n",
    "print(b)\n",
    "\n",
    "print('Life' 'is' 'short')      # 거의 사용안함\n",
    "print('Life' + 'is' + 'short')  # 문자열 결합(concatnate) + 연산자\n",
    "print('Life','is','short')"
   ]
  },
  {
   "cell_type": "code",
   "execution_count": 19,
   "metadata": {},
   "outputs": [
    {
     "name": "stdout",
     "output_type": "stream",
     "text": [
      "1 2 3 4 "
     ]
    }
   ],
   "source": [
    "a = [1,2,3,4]\n",
    "for i in a:\n",
    "    print(i, end=' ')"
   ]
  },
  {
   "cell_type": "code",
   "execution_count": 31,
   "metadata": {},
   "outputs": [
    {
     "name": "stdout",
     "output_type": "stream",
     "text": [
      "Hello\n",
      "World\n"
     ]
    }
   ],
   "source": [
    "# 다중값 입력\n",
    "(x,y) = input('두개의 영어 단어를 입력하세요').split()\n",
    "print(x)\n",
    "print(y)"
   ]
  },
  {
   "cell_type": "code",
   "execution_count": 27,
   "metadata": {},
   "outputs": [
    {
     "name": "stdout",
     "output_type": "stream",
     "text": [
      "80\n"
     ]
    }
   ],
   "source": [
    "(x,y) = input('두개의 수를 입력하세요(구분자 ,)').split(',')\n",
    "print(int(x) * int(y))\n"
   ]
  },
  {
   "cell_type": "code",
   "execution_count": 34,
   "metadata": {},
   "outputs": [
    {
     "name": "stdout",
     "output_type": "stream",
     "text": [
      "hello\n",
      "world\n",
      "\tHi~!\n"
     ]
    }
   ],
   "source": [
    "# Escape Character(탈출문자 = 특수문자)\n",
    "test_str = \"hello\\nworld\\n\\tHi~!\"\n",
    "print(test_str)"
   ]
  },
  {
   "cell_type": "code",
   "execution_count": 40,
   "metadata": {},
   "outputs": [
    {
     "name": "stdout",
     "output_type": "stream",
     "text": [
      "저는 빵이고    20대 후반입니다.\n",
      "저는 빵이고    20대 후반입니다.\n",
      "저는 빵이고    20대 후반입니다.\n"
     ]
    }
   ],
   "source": [
    "# 문자열 포맷팅 \n",
    "# 구시대방법\n",
    "print('%s는 %s이고 %5d대 %s입니다.' %('저','빵',20,'후반'))\n",
    "# 신식방법 1\n",
    "print('{0}는 {1}이고 {2:>5}대 {3}입니다.'.format('저','빵',20,'후반'))\n",
    "# python 3.6부터 병경된 방법, 추천방법!\n",
    "print(f'{\"저\"}는 {\"빵\"}이고 {20:>5}대 {\"후반\"}입니다.')\n"
   ]
  },
  {
   "cell_type": "markdown",
   "metadata": {},
   "source": [
    "2. 파일 입출력"
   ]
  },
  {
   "cell_type": "code",
   "execution_count": 51,
   "metadata": {},
   "outputs": [],
   "source": [
    "# 파일 출력! 파일은 열면 무조건 닫아야합니다.\n",
    "file = open('sample.txt', mode='a', encoding='utf-8')   # 파일열기  #encoding 필수 \n",
    "#\n",
    "file.write('안녕하세요. 파이썬 학습중입니다.\\n')\n",
    "file.write('두번째 줄 시작입니다.\\n')\n",
    "file.write('세번째 문장입니다.\\n')\n",
    "\n",
    "file.close()                        # 파일닫기"
   ]
  },
  {
   "cell_type": "code",
   "execution_count": 54,
   "metadata": {},
   "outputs": [
    {
     "name": "stdout",
     "output_type": "stream",
     "text": [
      "안녕하세요. 파이썬 학습중입니다.\n",
      "두번째 줄 시작입니다.안녕하세요. 파이썬 학습중입니다.\n",
      "두번째 줄 시작입니다.\n",
      "세번째 문장입니다.\n",
      "안녕하세요. 파이썬 학습중입니다.\n",
      "두번째 줄 시작입니다.\n",
      "세번째 문장입니다.\n",
      "\n"
     ]
    }
   ],
   "source": [
    "# 파일 입력\n",
    "fr = open('sample.txt', mode = 'r', encoding='utf-8')\n",
    "text = fr.read()   # 한번에 다 읽는것 - 텍스트 양이 너무 많으면 문제가 발생할 수있음.\n",
    "\n",
    "fr.close()\n",
    "print(text)\n"
   ]
  },
  {
   "cell_type": "code",
   "execution_count": 57,
   "metadata": {},
   "outputs": [
    {
     "name": "stdout",
     "output_type": "stream",
     "text": [
      "안녕하세요. 파이썬 학습중입니다.\n",
      "두번째 줄 시작입니다.안녕하세요. 파이썬 학습중입니다.\n",
      "두번째 줄 시작입니다.\n",
      "세번째 문장입니다.\n",
      "안녕하세요. 파이썬 학습중입니다.\n",
      "두번째 줄 시작입니다.\n",
      "세번째 문장입니다.\n"
     ]
    }
   ],
   "source": [
    "# 파일 읽기 - 한줄씩 읽어오기(일반적)\n",
    "fr = open('sample.txt', mode = 'r', encoding='utf-8')\n",
    "while True:\n",
    "    line = fr.readline()    # 한줄씩 읽기\n",
    "    if not line: break\n",
    "\n",
    "    print(line, end='')\n",
    "\n",
    "fr.close()"
   ]
  },
  {
   "cell_type": "markdown",
   "metadata": {},
   "source": [
    "3. csv 파일 읽기"
   ]
  },
  {
   "cell_type": "code",
   "execution_count": null,
   "metadata": {},
   "outputs": [],
   "source": [
    "import csv   # csv 모듈 추가\n",
    "\n",
    "file_name = 'seoul_bus.csv'\n",
    "dir_name = 'C:/Repository/StudyPython_Kasan/day3/'  # \\ 대신 / 사용, day3 뒤에도 /\n",
    "\n",
    "f = open(f'{dir_name}{file_name}', mode = 'r', encoding='utf-8')\n",
    "\n",
    "reader = csv.reader(f, delimiter=',')    # 구분자 ,\n",
    "next(reader)    # 첫번째줄(제목줄) 스킵\n",
    "for line in reader:\n",
    "    print(line)\n",
    "\n",
    "f.close()"
   ]
  }
 ],
 "metadata": {
  "interpreter": {
   "hash": "26de051ba29f2982a8de78e945f0abaf191376122a1563185a90213a26c5da77"
  },
  "kernelspec": {
   "display_name": "Python 3.10.4 64-bit",
   "language": "python",
   "name": "python3"
  },
  "language_info": {
   "codemirror_mode": {
    "name": "ipython",
    "version": 3
   },
   "file_extension": ".py",
   "mimetype": "text/x-python",
   "name": "python",
   "nbconvert_exporter": "python",
   "pygments_lexer": "ipython3",
   "version": "3.10.4"
  },
  "orig_nbformat": 4
 },
 "nbformat": 4,
 "nbformat_minor": 2
}
