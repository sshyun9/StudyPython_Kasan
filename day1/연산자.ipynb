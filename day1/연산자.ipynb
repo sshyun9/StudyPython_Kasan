{
 "cells": [
  {
   "cell_type": "markdown",
   "metadata": {},
   "source": [
    "## 연산자 학습\n",
    "1. 숫자연산"
   ]
  },
  {
   "cell_type": "code",
   "execution_count": 4,
   "metadata": {},
   "outputs": [
    {
     "name": "stdout",
     "output_type": "stream",
     "text": [
      "15\n",
      "7\n",
      "44\n",
      "2.75\n",
      "2\n",
      "3\n"
     ]
    }
   ],
   "source": [
    "# 연산자\n",
    "a = 11; b=4\n",
    "\n",
    "print(a+b) \n",
    "print(a-b)\n",
    "print(a*b)\n",
    "print(a/b)\n",
    "print(a//b) # 소수점 버림\n",
    "print(a%b)  # 나머지"
   ]
  },
  {
   "cell_type": "code",
   "execution_count": 8,
   "metadata": {},
   "outputs": [
    {
     "name": "stdout",
     "output_type": "stream",
     "text": [
      "14641\n"
     ]
    }
   ],
   "source": [
    "print(a**b) # 11의 4제곱\n"
   ]
  },
  {
   "cell_type": "code",
   "execution_count": 9,
   "metadata": {},
   "outputs": [
    {
     "ename": "ZeroDivisionError",
     "evalue": "division by zero",
     "output_type": "error",
     "traceback": [
      "\u001b[1;31m---------------------------------------------------------------------------\u001b[0m",
      "\u001b[1;31mZeroDivisionError\u001b[0m                         Traceback (most recent call last)",
      "\u001b[1;32mc:\\Repository\\StudyPython_Kasan\\day1\\연산자.ipynb Cell 4'\u001b[0m in \u001b[0;36m<cell line: 3>\u001b[1;34m()\u001b[0m\n\u001b[0;32m      <a href='vscode-notebook-cell:/c%3A/Repository/StudyPython_Kasan/day1/%EC%97%B0%EC%82%B0%EC%9E%90.ipynb#ch0000004?line=0'>1</a>\u001b[0m \u001b[39m# 경고!\u001b[39;00m\n\u001b[0;32m      <a href='vscode-notebook-cell:/c%3A/Repository/StudyPython_Kasan/day1/%EC%97%B0%EC%82%B0%EC%9E%90.ipynb#ch0000004?line=1'>2</a>\u001b[0m c \u001b[39m=\u001b[39m \u001b[39m0\u001b[39m\n\u001b[1;32m----> <a href='vscode-notebook-cell:/c%3A/Repository/StudyPython_Kasan/day1/%EC%97%B0%EC%82%B0%EC%9E%90.ipynb#ch0000004?line=2'>3</a>\u001b[0m \u001b[39mprint\u001b[39m(a\u001b[39m/\u001b[39;49mc)\n",
      "\u001b[1;31mZeroDivisionError\u001b[0m: division by zero"
     ]
    }
   ],
   "source": [
    "# 경고 예외발생!\n",
    "c = 0\n",
    "print(a/c)  # ZeroDivisionError 발생"
   ]
  },
  {
   "cell_type": "markdown",
   "metadata": {},
   "source": [
    "2. 문자열 연산"
   ]
  },
  {
   "cell_type": "code",
   "execution_count": 16,
   "metadata": {},
   "outputs": [
    {
     "name": "stdout",
     "output_type": "stream",
     "text": [
      "Hello,World\n",
      "Hello, World\n",
      "WorldWorldWorldWorldWorld\n"
     ]
    }
   ],
   "source": [
    "# 문자열 연산\n",
    "first = 'Hello,'\n",
    "second = 'World'\n",
    "print(first + second)  # 숫자더하기와 다름! 결합의 의미! 빼기, 나누기, 숫자와 더하기 모두 불가능\n",
    "\n",
    "ab = 'Hello,'\n",
    "cd = 'World'\n",
    "print(ab + ' ' + cd)\n",
    "\n",
    "print(second*5)"
   ]
  },
  {
   "cell_type": "code",
   "execution_count": 18,
   "metadata": {},
   "outputs": [
    {
     "name": "stdout",
     "output_type": "stream",
     "text": [
      "6\n",
      "H\n",
      "e\n",
      "l\n",
      "l\n",
      "o\n",
      ",\n"
     ]
    }
   ],
   "source": [
    "## 문자열\n",
    "print(len(first))  # 글자길이는 6 : 0부터 5까지 6자리\n",
    "print(first[0])    # 시작은 0부터\n",
    "print(first[1])\n",
    "print(first[2])\n",
    "print(first[3])\n",
    "print(first[4])\n",
    "print(first[5])\n",
    "# print(first[6])은 있을 수 없음 # Indexerror 예외발생"
   ]
  },
  {
   "cell_type": "code",
   "execution_count": 22,
   "metadata": {},
   "outputs": [
    {
     "name": "stdout",
     "output_type": "stream",
     "text": [
      ",\n",
      "o\n",
      "l\n",
      "l\n",
      "e\n",
      "H\n"
     ]
    }
   ],
   "source": [
    "print(first[-1])\n",
    "print(first[-2])\n",
    "print(first[-3])\n",
    "print(first[-4])\n",
    "print(first[-5])\n",
    "print(first[-6])"
   ]
  },
  {
   "cell_type": "code",
   "execution_count": 37,
   "metadata": {},
   "outputs": [
    {
     "name": "stdout",
     "output_type": "stream",
     "text": [
      "['2022-05-23', '17:33:45']\n",
      "2022-05-23\n",
      "17:33:45\n",
      "2022\n",
      "05\n",
      "23\n",
      "17\n",
      "33\n",
      "45\n",
      "45\n",
      "33\n"
     ]
    }
   ],
   "source": [
    "# 현재 일시\n",
    "current = '2022-05-23 17:33:45'   \n",
    "curr_date = current.split(' ')\n",
    "print(curr_date)\n",
    "print(curr_date[0])\n",
    "print(curr_date[1])\n",
    "\n",
    "print(current[0:4]) # 0,1,2,3 까지 출력하기 위해서 4입력\n",
    "print(current[5:7]) \n",
    "print(current[8:10])\n",
    "\n",
    "print(current[11:13])\n",
    "print(current[14:16])\n",
    "print(current[17:19]) \n",
    "\n",
    "print(current[-2:])\n",
    "print(current[-5:-3])"
   ]
  },
  {
   "cell_type": "code",
   "execution_count": 3,
   "metadata": {},
   "outputs": [
    {
     "name": "stdout",
     "output_type": "stream",
     "text": [
      "[1, 2, 3, 4, 5]\n",
      "1\n",
      "[7, 2, 3, 4, 5]\n"
     ]
    }
   ],
   "source": [
    "# 일반 리스트 값 변경\n",
    "q = [1,2,3,4,5]\n",
    "print(q)\n",
    "print(q[0])\n",
    "q[0]=7\n",
    "print(q)"
   ]
  },
  {
   "cell_type": "code",
   "execution_count": 11,
   "metadata": {},
   "outputs": [
    {
     "name": "stdout",
     "output_type": "stream",
     "text": [
      "hello!\n",
      "h\n",
      "hello!\n",
      "Hello!\n"
     ]
    }
   ],
   "source": [
    "# 문자열(문자의 배열) 값 변경\n",
    "greeting = 'hello!'\n",
    "print(greeting)\n",
    "print(greeting[0])\n",
    "# greeting[0]='H'\n",
    "print(greeting)  # TypeError 예외발생\n",
    "\n",
    "new_greeting = 'H' + greeting[1:]\n",
    "print(new_greeting)"
   ]
  },
  {
   "cell_type": "markdown",
   "metadata": {},
   "source": [
    "3. 문자열 포맷팅"
   ]
  },
  {
   "cell_type": "code",
   "execution_count": 27,
   "metadata": {},
   "outputs": [
    {
     "name": "stdout",
     "output_type": "stream",
     "text": [
      "I'm happy two you\n",
      "I'm happy two you\n",
      "제 이름은 땡땡이입니다. 부산에 살아요.\n"
     ]
    }
   ],
   "source": [
    "# 문자열 포맷팅\n",
    "\"I'm so happy for you\"\n",
    "'I\\'m so happy for you'\n",
    "\n",
    "# 포맷팅 구식\n",
    "print(  'I\\'m happy {0} {1}'.format('two', 'you')  )\n",
    "\n",
    "word1 = 'two'\n",
    "word2 = 'you'\n",
    "print ('I\\'m happy {0} {1}'. format(word1, word2))\n",
    "\n",
    "# 포맷팅 신식\n",
    "name = '땡땡이'\n",
    "region = '부산'\n",
    "print(f'제 이름은 {name}입니다. {region}에 살아요.')"
   ]
  },
  {
   "cell_type": "code",
   "execution_count": 34,
   "metadata": {},
   "outputs": [
    {
     "name": "stdout",
     "output_type": "stream",
     "text": [
      "3.141592653589793\n",
      "3.14\n",
      "3.1416\n"
     ]
    }
   ],
   "source": [
    "import math \n",
    "print(math.pi)\n",
    "print(f'{math.pi:0.2f}')  # 0.2는 소수점 둘째자리에서 자름.\n",
    "print('{0:0.4f}'. format(math.pi)) # 구식방법"
   ]
  },
  {
   "cell_type": "code",
   "execution_count": 39,
   "metadata": {},
   "outputs": [
    {
     "name": "stdout",
     "output_type": "stream",
     "text": [
      "서울특별시 금천구 가산동\n",
      "['서울특별시', '금천구', '가산동']\n",
      "['DEST07', '2022-05-24', '10:07:17', 'DESC11', 'NONE']\n"
     ]
    }
   ],
   "source": [
    "# 문자열 자르기\n",
    "orign_str = '서울특별시 금천구 가산동'\n",
    "print(orign_str)\n",
    "print(orign_str.split())\n",
    "\n",
    "mes_str = 'DEST07|2022-05-24|10:07:17|DESC11|NONE'\n",
    "print(mes_str. split('|'))"
   ]
  },
  {
   "cell_type": "code",
   "execution_count": 41,
   "metadata": {},
   "outputs": [
    {
     "name": "stdout",
     "output_type": "stream",
     "text": [
      "따릉이 Park\n"
     ]
    }
   ],
   "source": [
    "# 문자열 치환\n",
    "full_name = 'DDarreunggi Park'\n",
    "rep_name = full_name.replace('DDarreunggi', '따릉이')\n",
    "print(rep_name)"
   ]
  },
  {
   "cell_type": "code",
   "execution_count": 53,
   "metadata": {},
   "outputs": [
    {
     "name": "stdout",
     "output_type": "stream",
     "text": [
      "['Hey', ' Guys~']\n",
      "['Hey', 'Guys']\n"
     ]
    }
   ],
   "source": [
    "# 문자열 공백 제거\n",
    "test = 'Hey, Guys~'\n",
    "sp_test = test.split(',')\n",
    "print(sp_test)\n",
    "sp_test[1] = sp_test[1].replace('~','').strip()\n",
    "print(sp_test)"
   ]
  },
  {
   "cell_type": "code",
   "execution_count": 59,
   "metadata": {},
   "outputs": [
    {
     "name": "stdout",
     "output_type": "stream",
     "text": [
      "Hello~    \n",
      "     Hello~\n",
      "Hello~\n",
      "Hello     ~\n"
     ]
    }
   ],
   "source": [
    "print('     Hello~    '.lstrip()) \n",
    "print('     Hello~    '.rstrip())\n",
    "print('     Hello~    '.strip()) \n",
    "print('     Hello     ~    '.strip())"
   ]
  },
  {
   "cell_type": "code",
   "execution_count": 64,
   "metadata": {},
   "outputs": [
    {
     "name": "stdout",
     "output_type": "stream",
     "text": [
      "0\n",
      "5\n"
     ]
    }
   ],
   "source": [
    "print(test.index('H'))\n",
    "print(test.index('G'))\n",
    "# print(test.index('g'))  # ValueError 예외발생, 없는 단어를 찾으면 "
   ]
  },
  {
   "cell_type": "code",
   "execution_count": 66,
   "metadata": {},
   "outputs": [
    {
     "name": "stdout",
     "output_type": "stream",
     "text": [
      "5\n",
      "-1\n"
     ]
    }
   ],
   "source": [
    "print(test.find('G'))\n",
    "print(test.find('g'))"
   ]
  },
  {
   "cell_type": "code",
   "execution_count": 67,
   "metadata": {},
   "outputs": [
    {
     "name": "stdout",
     "output_type": "stream",
     "text": [
      "2\n"
     ]
    }
   ],
   "source": [
    "print('Hello~'.count('l'))"
   ]
  },
  {
   "cell_type": "code",
   "execution_count": 70,
   "metadata": {},
   "outputs": [
    {
     "name": "stdout",
     "output_type": "stream",
     "text": [
      "DDARREUNGGI PARK\n",
      "ddarreunggi park\n"
     ]
    }
   ],
   "source": [
    "print(full_name.upper())  # 모든 단어를 대문자\n",
    "print(full_name.lower())  # 모든 단어를 소문자"
   ]
  },
  {
   "cell_type": "markdown",
   "metadata": {},
   "source": [
    "4. 리스트 연산"
   ]
  },
  {
   "cell_type": "code",
   "execution_count": 83,
   "metadata": {},
   "outputs": [
    {
     "name": "stdout",
     "output_type": "stream",
     "text": [
      "5\n",
      "5\n",
      "6\n",
      "3\n",
      "3333\n",
      "5\n"
     ]
    }
   ],
   "source": [
    "# 리스트 연산\n",
    "arr = [1,2,3,4,5]\n",
    "print(len(arr))\n",
    "print(arr[4])\n",
    "\n",
    "print(arr[0]+arr[4])\n",
    "arr[2] = '3'  # 숫자가 아니라 문자로 입력됨\n",
    "print(arr[2])\n",
    "print(arr[2]*arr[3])\n",
    "\n",
    "print(arr[-1])"
   ]
  },
  {
   "cell_type": "code",
   "execution_count": 100,
   "metadata": {},
   "outputs": [],
   "source": [
    "arr2 = [1,2,3, ['Hi', 'My', 'Friends']]"
   ]
  },
  {
   "cell_type": "code",
   "execution_count": 101,
   "metadata": {},
   "outputs": [
    {
     "name": "stdout",
     "output_type": "stream",
     "text": [
      "[1, 2, 3, ['Hi', 'My', 'Friends']]\n",
      "[1, 2, ['Hi', 'My', 'Friends']]\n"
     ]
    }
   ],
   "source": [
    "print(arr2)\n",
    "del(arr2[2])  #del(arr) 하면 arr자체가 사라짐\n",
    "print(arr2)"
   ]
  },
  {
   "cell_type": "code",
   "execution_count": 97,
   "metadata": {},
   "outputs": [
    {
     "name": "stdout",
     "output_type": "stream",
     "text": [
      "[1, 2, '3', 4, 5, 9, 9, 9, 9, 9, 9, 9]\n",
      "[1, 2, '3', 4, 5, 9, 9, 9, 9, 9, 9, 9, 9]\n"
     ]
    }
   ],
   "source": [
    "# 리스트 변수 추가\n",
    "print(arr)\n",
    "arr.append(9)\n",
    "print(arr)"
   ]
  },
  {
   "cell_type": "code",
   "execution_count": 99,
   "metadata": {},
   "outputs": [
    {
     "name": "stdout",
     "output_type": "stream",
     "text": [
      "[1, 2, '3', 4, 5, 9, 9, 9, 9, 9, 9, 9, 9]\n"
     ]
    }
   ],
   "source": [
    "print(arr)"
   ]
  },
  {
   "cell_type": "code",
   "execution_count": 103,
   "metadata": {},
   "outputs": [
    {
     "name": "stdout",
     "output_type": "stream",
     "text": [
      "[1, 2, '3', 25, 25, 4, 5, 9, 9, 9, 9, 9, 9, 9, 9]\n"
     ]
    }
   ],
   "source": [
    "# insert()\n",
    "arr.insert(3, 25)\n",
    "print(arr)\n",
    "\n"
   ]
  },
  {
   "cell_type": "code",
   "execution_count": 105,
   "metadata": {},
   "outputs": [
    {
     "name": "stdout",
     "output_type": "stream",
     "text": [
      "[1, 2, '3', 25, 25, 4, 5, 9, 9, 9, 9, 9, 9, 9, 9, 7, 2, 3, 4, 5, 7, 2, 3, 4, 5]\n"
     ]
    }
   ],
   "source": [
    "# 리스트에 리스트 추가\n",
    "arr.extend(q)\n",
    "print(arr)"
   ]
  },
  {
   "cell_type": "code",
   "execution_count": 110,
   "metadata": {},
   "outputs": [
    {
     "name": "stdout",
     "output_type": "stream",
     "text": [
      "[8, 2, 9, 3, 4, 5, 1, 10]\n",
      "[1, 2, 3, 4, 5, 8, 9, 10]\n",
      "[10, 9, 8, 5, 4, 3, 2, 1]\n"
     ]
    }
   ],
   "source": [
    "# 정렬\n",
    "list1 = [8,2,9,3,4,5,1,10]\n",
    "print(list1)\n",
    "\n",
    "list1.sort()      # 오름차순 정렬\n",
    "print(list1)\n",
    "list1.reverse()   # 내림차순 정렬\n",
    "print(list1)"
   ]
  },
  {
   "cell_type": "code",
   "execution_count": 113,
   "metadata": {},
   "outputs": [
    {
     "name": "stdout",
     "output_type": "stream",
     "text": [
      "[10, 9, 8, 5, 4, 3, 2]\n",
      "2\n",
      "[10, 9, 8, 5, 4, 3]\n"
     ]
    }
   ],
   "source": [
    "# 스택형태 함수\n",
    "print(list1)\n",
    "print(list1.pop())\n",
    "print(list1)"
   ]
  },
  {
   "cell_type": "markdown",
   "metadata": {},
   "source": [
    "5. 튜플, 튜플연산"
   ]
  },
  {
   "cell_type": "code",
   "execution_count": 115,
   "metadata": {},
   "outputs": [
    {
     "name": "stdout",
     "output_type": "stream",
     "text": [
      "(1, 2, 3, 4, 5)\n"
     ]
    }
   ],
   "source": [
    "tup1 = (1,2,3,4,5)\n",
    "print(tup1)"
   ]
  },
  {
   "cell_type": "code",
   "execution_count": 116,
   "metadata": {},
   "outputs": [
    {
     "name": "stdout",
     "output_type": "stream",
     "text": [
      "5\n"
     ]
    }
   ],
   "source": [
    "print(tup1[4])"
   ]
  },
  {
   "cell_type": "code",
   "execution_count": 118,
   "metadata": {},
   "outputs": [
    {
     "ename": "TypeError",
     "evalue": "'tuple' object does not support item assignment",
     "output_type": "error",
     "traceback": [
      "\u001b[1;31m---------------------------------------------------------------------------\u001b[0m",
      "\u001b[1;31mTypeError\u001b[0m                                 Traceback (most recent call last)",
      "\u001b[1;32mc:\\Repository\\StudyPython_Kasan\\day1\\연산자.ipynb Cell 36'\u001b[0m in \u001b[0;36m<cell line: 1>\u001b[1;34m()\u001b[0m\n\u001b[1;32m----> <a href='vscode-notebook-cell:/c%3A/Repository/StudyPython_Kasan/day1/%EC%97%B0%EC%82%B0%EC%9E%90.ipynb#ch0000038?line=0'>1</a>\u001b[0m tup1[\u001b[39m0\u001b[39m]\u001b[39m=\u001b[39m\u001b[39m7\u001b[39m\n",
      "\u001b[1;31mTypeError\u001b[0m: 'tuple' object does not support item assignment"
     ]
    }
   ],
   "source": [
    "tup1[0]=7 # 튜플은 리스트와 달리 추가, 변경, 삭제 안됨"
   ]
  },
  {
   "cell_type": "markdown",
   "metadata": {},
   "source": [
    "6. 딕셔너리 연산"
   ]
  },
  {
   "cell_type": "code",
   "execution_count": 120,
   "metadata": {},
   "outputs": [
    {
     "name": "stdout",
     "output_type": "stream",
     "text": [
      "{1: 'a'}\n"
     ]
    }
   ],
   "source": [
    "dic_a = { 1 : 'a'}\n",
    "print(dic_a)"
   ]
  },
  {
   "cell_type": "code",
   "execution_count": 122,
   "metadata": {},
   "outputs": [
    {
     "name": "stdout",
     "output_type": "stream",
     "text": [
      "{1: 'a', 2: 'b'}\n"
     ]
    }
   ],
   "source": [
    "dic_a[2] = 'b'\n",
    "print(dic_a)"
   ]
  },
  {
   "cell_type": "code",
   "execution_count": 125,
   "metadata": {},
   "outputs": [
    {
     "name": "stdout",
     "output_type": "stream",
     "text": [
      "{1: 'a', 2: 'b', 'name': 'BBANG'}\n"
     ]
    }
   ],
   "source": [
    "dic_a['name'] = 'BBANG'\n",
    "print(dic_a)"
   ]
  },
  {
   "cell_type": "code",
   "execution_count": 127,
   "metadata": {},
   "outputs": [
    {
     "name": "stdout",
     "output_type": "stream",
     "text": [
      "{'name': 'Peter parker', 'armer': 'Web shooter', 'age': '20'}\n"
     ]
    }
   ],
   "source": [
    "spider_man = {'name' : 'Peter parker', 'armer': 'Web shooter', 'age':'20'}\n",
    "print(spider_man)"
   ]
  },
  {
   "cell_type": "code",
   "execution_count": 129,
   "metadata": {},
   "outputs": [
    {
     "name": "stdout",
     "output_type": "stream",
     "text": [
      "Peter parker\n",
      "True\n"
     ]
    }
   ],
   "source": [
    "print(spider_man['name'])\n",
    "print('age' in spider_man)"
   ]
  }
 ],
 "metadata": {
  "interpreter": {
   "hash": "26de051ba29f2982a8de78e945f0abaf191376122a1563185a90213a26c5da77"
  },
  "kernelspec": {
   "display_name": "Python 3.10.4 64-bit",
   "language": "python",
   "name": "python3"
  },
  "language_info": {
   "codemirror_mode": {
    "name": "ipython",
    "version": 3
   },
   "file_extension": ".py",
   "mimetype": "text/x-python",
   "name": "python",
   "nbconvert_exporter": "python",
   "pygments_lexer": "ipython3",
   "version": "3.10.4"
  },
  "orig_nbformat": 4
 },
 "nbformat": 4,
 "nbformat_minor": 2
}
